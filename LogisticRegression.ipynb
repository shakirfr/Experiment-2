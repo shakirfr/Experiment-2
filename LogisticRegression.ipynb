{
 "cells": [
  {
   "cell_type": "code",
   "execution_count": 17,
   "metadata": {
    "collapsed": true
   },
   "outputs": [],
   "source": [
    "import numpy\n",
    "from collections import defaultdict\n"
   ]
  },
  {
   "cell_type": "code",
   "execution_count": 18,
   "metadata": {
    "collapsed": true
   },
   "outputs": [],
   "source": [
    "class Model(object):\n",
    "    def __init__(self, n_features):\n",
    "        self.params = numpy.random.random(size=(n_features, 1))\n",
    "        self.diffs = numpy.zeros((n_features, 1))\n",
    "        self.recorder = defaultdict(list)\n",
    "\n",
    "    def train(self, X, y):\n",
    "        pass\n",
    "\n",
    "    def validate(self, X, y):\n",
    "        self.__loss__(X, y, \"validation\")\n",
    "\n",
    "    def predict(self, X):\n",
    "        pass\n",
    "\n",
    "    def __calculate_gradient__(self, params=None):\n",
    "        pass\n",
    "\n",
    "    def __loss__(self, X, y, key):\n",
    "        pass"
   ]
  },
  {
   "cell_type": "code",
   "execution_count": 19,
   "metadata": {
    "collapsed": true
   },
   "outputs": [],
   "source": [
    "class LogisticRegressionClassifier(Model):\n",
    "    def __init__(self, n_features):\n",
    "        super(LogisticRegressionClassifier, self).__init__(n_features=n_features)\n",
    "        self.X_train = None\n",
    "        self.y_train = None\n",
    "\n",
    "    def train(self, X, y):\n",
    "        self.X_train = X\n",
    "        self.y_train = y\n",
    "\n",
    "    def predict(self, X):\n",
    "        return numpy.where(numpy.dot(X, self.params) > 0, 1, 0)\n",
    "\n",
    "    def __calculate_gradient__(self, params=None):\n",
    "        if params is None:\n",
    "            params = self.params\n",
    "        y_hat = 1 / (1 + numpy.exp(-numpy.dot(self.X_train, params)))\n",
    "        self.diffs = numpy.dot(self.X_train.transpose(), (y_hat - self.y_train))\n",
    "\n",
    "    def __loss__(self, X, y, key):\n",
    "        y_hat = 1 / (1 + numpy.exp(-numpy.dot(X, self.params)))\n",
    "        loss = -numpy.average(y * numpy.log(y_hat) + (1 - y) * numpy.log(1 - y_hat))\n",
    "        self.recorder[key].append(loss)"
   ]
  },
  {
   "cell_type": "code",
   "execution_count": 20,
   "metadata": {
    "collapsed": true
   },
   "outputs": [],
   "source": [
    "class Optimizer(object):\n",
    "    def __init__(self, model):\n",
    "        self.model = model\n",
    "        self.color = None\n",
    "\n",
    "    def step(self):\n",
    "        pass"
   ]
  },
  {
   "cell_type": "code",
   "execution_count": 21,
   "metadata": {
    "collapsed": true
   },
   "outputs": [],
   "source": [
    "class SGD(Optimizer):\n",
    "    def __init__(self, model, learning_rate, momentum=None):\n",
    "        super(SGD, self).__init__(model=model)\n",
    "        self.color = \"r\"\n",
    "        self.learning_rate = learning_rate\n",
    "        self.momentum = momentum\n",
    "        if momentum is not None:\n",
    "            self.v = numpy.zeros_like(self.model.diffs)\n",
    "\n",
    "    def step(self):\n",
    "        self.model.__calculate_gradient__()\n",
    "        if self.momentum is None:\n",
    "            self.model.params -= self.learning_rate * self.model.diffs\n",
    "        else:\n",
    "            self.v = self.momentum * self.v + self.learning_rate * self.model.diffs\n",
    "            self.model.params -= self.v"
   ]
  },
  {
   "cell_type": "code",
   "execution_count": 22,
   "metadata": {
    "collapsed": true
   },
   "outputs": [],
   "source": [
    "class NAG(Optimizer):\n",
    "    def __init__(self, model, learning_rate, momentum):\n",
    "        super(NAG, self).__init__(model=model)\n",
    "        self.color = \"y\"\n",
    "        self.learning_rate = learning_rate\n",
    "        self.momentum = momentum\n",
    "        self.v = numpy.zeros_like(self.model.diffs)\n",
    "\n",
    "    def step(self):\n",
    "        self.model.__calculate_gradient__(params=self.model.params - self.momentum * self.v)\n",
    "        self.v = self.momentum * self.v + self.learning_rate * self.model.diffs\n",
    "        self.model.params -= self.v"
   ]
  },
  {
   "cell_type": "code",
   "execution_count": 23,
   "metadata": {
    "collapsed": true
   },
   "outputs": [],
   "source": [
    "class RMSProP(Optimizer):\n",
    "    def __init__(self, model, leaning_rate, weight_decay):\n",
    "        self.color = \"c\"\n",
    "        super(RMSProP, self).__init__(model=model)\n",
    "        self.G = numpy.zeros_like(self.model.diffs)\n",
    "        self.learning_rate = leaning_rate\n",
    "        self.weight_decay = weight_decay\n",
    "        self.epsilon = 1e-8\n",
    "\n",
    "    def step(self):\n",
    "        self.model.__calculate_gradient__()\n",
    "        self.G = self.weight_decay * self.G + (1 - self.weight_decay) * self.model.diffs * self.model.diffs\n",
    "        self.model.params -= self.learning_rate / numpy.sqrt(self.G + self.epsilon) * self.model.diffs"
   ]
  },
  {
   "cell_type": "code",
   "execution_count": 24,
   "metadata": {
    "collapsed": true
   },
   "outputs": [],
   "source": [
    "class AdaDelta(Optimizer):\n",
    "    def __init__(self, model, gamma):\n",
    "        super(AdaDelta, self).__init__(model=model)\n",
    "        self.color = \"b\"\n",
    "        self.gamma = gamma\n",
    "        self.G = numpy.zeros_like(self.model.diffs)\n",
    "        self.delta = numpy.zeros_like(self.model.diffs)\n",
    "        self.delta_theta = numpy.zeros_like(self.model.diffs)\n",
    "        self.epsilon = 1e-4\n",
    "\n",
    "    def step(self):\n",
    "        self.model.__calculate_gradient__()\n",
    "        self.G = self.gamma * self.G + (1 - self.gamma) * self.model.diffs * self.model.diffs\n",
    "        self.delta_theta = -(numpy.sqrt(self.delta + self.epsilon)\n",
    "                             / numpy.sqrt(self.G + self.epsilon)) * self.model.diffs\n",
    "        self.model.params += self.delta_theta\n",
    "        self.delta = self.gamma * self.delta + (1 - self.gamma) * self.delta_theta * self.delta_theta\n"
   ]
  },
  {
   "cell_type": "code",
   "execution_count": 25,
   "metadata": {
    "collapsed": true
   },
   "outputs": [],
   "source": [
    "class Adam(Optimizer):\n",
    "    def __init__(self, model, beta, gamma, eta):\n",
    "        super(Adam, self).__init__(model=model)\n",
    "        self.color = \"m\"\n",
    "        self.beta = beta\n",
    "        self.gamma = gamma\n",
    "        self.eta = eta\n",
    "        self.m = numpy.zeros_like(self.model.diffs)\n",
    "        self.G = numpy.zeros_like(self.model.diffs)\n",
    "        self.epsilon = 1e-8\n",
    "\n",
    "    def step(self):\n",
    "        self.model.__calculate_gradient__()\n",
    "        self.m = self.beta * self.m + (1 - self.beta) * self.model.diffs\n",
    "        self.G = self.gamma * self.G + (1 - self.gamma) * self.model.diffs * self.model.diffs\n",
    "        alpha = self.eta * (numpy.sqrt(1 - self.gamma)) / (1 - self.beta)\n",
    "        self.model.params -= alpha * self.m / numpy.sqrt(self.G + self.epsilon)"
   ]
  },
  {
   "cell_type": "code",
   "execution_count": 26,
   "metadata": {
    "collapsed": true
   },
   "outputs": [],
   "source": [
    "import requests\n",
    "\n",
    "train_set = requests.get(\"https://www.csie.ntu.edu.tw/~cjlin/libsvmtools/datasets/binary/a9a\")\n",
    "validation_set = requests.get(\"https://www.csie.ntu.edu.tw/~cjlin/libsvmtools/datasets/binary/a9a.t\")"
   ]
  },
  {
   "cell_type": "code",
   "execution_count": 27,
   "metadata": {
    "collapsed": true
   },
   "outputs": [],
   "source": [
    "from io import BytesIO\n",
    "from sklearn.datasets import load_svmlight_file\n",
    "\n",
    "X_train, y_train = load_svmlight_file(BytesIO(train_set.content), n_features=123)\n",
    "X_val, y_val = load_svmlight_file(BytesIO(validation_set.content), n_features=123)\n",
    "X_train = X_train.toarray()\n",
    "X_val = X_val.toarray()"
   ]
  },
  {
   "cell_type": "code",
   "execution_count": 28,
   "metadata": {
    "collapsed": true
   },
   "outputs": [],
   "source": [
    "n_samples_train, n_features_train = X_train.shape\n",
    "X_train = numpy.concatenate((X_train, numpy.ones(shape=(n_samples_train, 1))), axis=1)\n",
    "y_train = y_train.reshape((n_samples_train, 1))\n",
    "\n",
    "n_samples_val, n_features_val = X_val.shape\n",
    "X_val = numpy.concatenate((X_val, numpy.ones(shape=(n_samples_val, 1))), axis=1)\n",
    "y_val = y_val.reshape((n_samples_val, 1))"
   ]
  },
  {
   "cell_type": "code",
   "execution_count": 29,
   "metadata": {
    "collapsed": true
   },
   "outputs": [],
   "source": [
    "y_train = numpy.where(y_train == -1, 0, y_train)\n",
    "y_val = numpy.where(y_val == -1, 0, y_val)\n",
    "optimizers = [\n",
    "    SGD(model=LogisticRegressionClassifier(n_features=123 + 1), learning_rate=0.00001, momentum=0.5),\n",
    "    NAG(model=LogisticRegressionClassifier(n_features=123 + 1), learning_rate=0.00001, momentum=0.5),\n",
    "    RMSProP(model=LogisticRegressionClassifier(n_features=123 + 1), leaning_rate=0.1, weight_decay=0.9),\n",
    "    AdaDelta(model=LogisticRegressionClassifier(n_features=123 + 1), gamma=0.95),\n",
    "    Adam(model=LogisticRegressionClassifier(n_features=123 + 1), beta=0.9, gamma=0.999, eta=0.1)\n",
    "]"
   ]
  },
  {
   "cell_type": "code",
   "execution_count": 30,
   "metadata": {},
   "outputs": [
    {
     "name": "stdout",
     "output_type": "stream",
     "text": [
      "--------------------LogisticRegressionClassifier--------------------\n",
      "------------------------SGD------------------------\n",
      "             precision    recall  f1-score   support\n",
      "\n",
      "   positive      0.848     0.918     0.881     12435\n",
      "   negative      0.637     0.467     0.539      3846\n",
      "\n",
      "avg / total      0.798     0.811     0.800     16281\n",
      "\n",
      "------------------------NAG------------------------\n",
      "             precision    recall  f1-score   support\n",
      "\n",
      "   positive      0.845     0.910     0.877     12435\n",
      "   negative      0.614     0.462     0.527      3846\n",
      "\n",
      "avg / total      0.791     0.804     0.794     16281\n",
      "\n",
      "------------------------RMSProP------------------------\n",
      "             precision    recall  f1-score   support\n",
      "\n",
      "   positive      0.907     0.881     0.893     12435\n",
      "   negative      0.647     0.706     0.675      3846\n",
      "\n",
      "avg / total      0.845     0.839     0.842     16281\n",
      "\n",
      "------------------------AdaDelta------------------------\n",
      "             precision    recall  f1-score   support\n",
      "\n",
      "   positive      0.869     0.938     0.902     12435\n",
      "   negative      0.729     0.543     0.622      3846\n",
      "\n",
      "avg / total      0.836     0.844     0.836     16281\n",
      "\n",
      "------------------------Adam------------------------\n",
      "             precision    recall  f1-score   support\n",
      "\n",
      "   positive      0.883     0.924     0.903     12435\n",
      "   negative      0.712     0.606     0.655      3846\n",
      "\n",
      "avg / total      0.843     0.849     0.845     16281\n",
      "\n"
     ]
    }
   ],
   "source": [
    "max_epoch = 100\n",
    "batch_size = 10000\n",
    "for epoch in range(max_epoch):\n",
    "    indexes = numpy.random.randint(0, n_samples_train, size=batch_size)\n",
    "    for optimizer in optimizers:\n",
    "        optimizer.model.train(X_train[indexes], y_train[indexes])\n",
    "        optimizer.step()\n",
    "        optimizer.model.validate(X_val, y_val)\n",
    "\n",
    "from sklearn.metrics import classification_report\n",
    "\n",
    "print(\"-\" * 20 + optimizers[0].model.__class__.__name__ + \"-\" * 20)\n",
    "for optimizer in optimizers:\n",
    "    print(\"-\" * 24 + optimizer.__class__.__name__ + \"-\" * 24)\n",
    "    print(classification_report(y_val,\n",
    "                                optimizer.model.predict(X_val),\n",
    "                                target_names=[\"positive\", \"negative\"],\n",
    "                                digits=3))"
   ]
  },
  {
   "cell_type": "code",
   "execution_count": 31,
   "metadata": {},
   "outputs": [
    {
     "data": {
      "image/png": "[encoded data removed]",
      "text/plain": [
       "<matplotlib.figure.Figure at 0x26c95ca0978>"
      ]
     },
     "metadata": {},
     "output_type": "display_data"
    }
   ],
   "source": [
    "import matplotlib.pyplot as plt\n",
    "%matplotlib inline\n",
    "plt.figure(figsize=(16,9))\n",
    "plt.xlabel(\"epoch\")\n",
    "plt.ylabel(\"loss\")\n",
    "plt.title(optimizers[0].model.__class__.__name__)\n",
    "for optimizer in optimizers:\n",
    "    plt.plot(optimizer.model.recorder[\"validation\"], color=optimizer.color, label=optimizer.__class__.__name__)\n",
    "plt.legend()\n",
    "plt.show()"
   ]
  }
 ],
 "metadata": {
  "kernelspec": {
   "display_name": "Python 3",
   "language": "python",
   "name": "python3"
  },
  "language_info": {
   "codemirror_mode": {
    "name": "ipython",
    "version": 3
   },
   "file_extension": ".py",
   "mimetype": "text/x-python",
   "name": "python",
   "nbconvert_exporter": "python",
   "pygments_lexer": "ipython3",
   "version": "3.6.3"
  }
 },
 "nbformat": 4,
 "nbformat_minor": 2
}
